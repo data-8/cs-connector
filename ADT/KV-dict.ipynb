{
 "cells": [
  {
   "cell_type": "code",
   "execution_count": null,
   "metadata": {
    "collapsed": true,
    "deletable": true,
    "editable": true
   },
   "outputs": [],
   "source": [
    "# This is a little piece of magic to help you test functions against\n",
    "# their doctest as you go.  \n",
    "import doctest\n",
    "def test(fun, verbose=False):\n",
    "    doctest.run_docstring_examples(fun, None, name=fun.__name__, verbose=verbose)"
   ]
  },
  {
   "cell_type": "markdown",
   "metadata": {},
   "source": [
    "# Brief introduction to `dict`"
   ]
  },
  {
   "cell_type": "code",
   "execution_count": null,
   "metadata": {
    "collapsed": false
   },
   "outputs": [],
   "source": [
    "# literal constructor\n",
    "{'a':2}"
   ]
  },
  {
   "cell_type": "code",
   "execution_count": null,
   "metadata": {
    "collapsed": false
   },
   "outputs": [],
   "source": [
    "# type constructor with list of pairs\n",
    "dict([('a', 5), ('apple', 'banana')])"
   ]
  },
  {
   "cell_type": "code",
   "execution_count": null,
   "metadata": {
    "collapsed": false
   },
   "outputs": [],
   "source": [
    "# type constructor using kwargs\n",
    "dict(a=3, b=4)"
   ]
  },
  {
   "cell_type": "code",
   "execution_count": null,
   "metadata": {
    "collapsed": true
   },
   "outputs": [],
   "source": [
    "text = \"once upon a time\""
   ]
  },
  {
   "cell_type": "code",
   "execution_count": null,
   "metadata": {
    "collapsed": false
   },
   "outputs": [],
   "source": [
    "# dictionary comprehension\n",
    "d = {t:len(t) for t in text.split()}\n",
    "d"
   ]
  },
  {
   "cell_type": "code",
   "execution_count": null,
   "metadata": {
    "collapsed": false
   },
   "outputs": [],
   "source": [
    "# Operations\n",
    "d.keys()"
   ]
  },
  {
   "cell_type": "code",
   "execution_count": null,
   "metadata": {
    "collapsed": false
   },
   "outputs": [],
   "source": [
    "# Indexing\n",
    "d['a']"
   ]
  },
  {
   "cell_type": "markdown",
   "metadata": {},
   "source": [
    "# ADT: key-value with a different internal representation"
   ]
  },
  {
   "cell_type": "code",
   "execution_count": null,
   "metadata": {
    "collapsed": false,
    "deletable": true,
    "editable": true
   },
   "outputs": [],
   "source": [
    "\"\"\"\n",
    "Key-Value Abstract Data Type\n",
    "\n",
    "Using an internal representation of a dict\n",
    "\"\"\"\n",
    "\n",
    "# Constructors\n",
    "\n",
    "def kv_empty():\n",
    "    \"\"\"Create and return an empty KV\n",
    "    \"\"\"\n",
    "    return {}\n",
    "\n",
    "def kv_add(kv, key, value):\n",
    "    \"\"\"Create a new KV with an addition (key,value) binding\n",
    "    \"\"\"\n",
    "    assert type(key) == str  # the key should be a string\n",
    "    nkv = kv.copy()\n",
    "    nkv[key] = value\n",
    "    return nkv\n",
    "\n",
    "def kv_create(listofkvpairs):\n",
    "    \"\"\"Create and return a KV initialized to list of kvpairs.\n",
    "    \n",
    "    A KV is a collection of key-value pairs such that kv_get(kv, key) returns the value\n",
    "    bound to key\n",
    "    \"\"\"\n",
    "    \n",
    "    # Internal representation of a KV is a pair of lists: keys and values\n",
    "    for kv in listofkvpairs:   # Verify that initialization is valid\n",
    "        assert len(kv)==2      # Each should be a key, value pair\n",
    "    kv = kv_empty()\n",
    "    for (k,v) in listofkvpairs:\n",
    "        kv = kv_add(kv, k, v)\n",
    "    return kv       # \n",
    "\n",
    "def kv_get(kv, key):\n",
    "    \"\"\"Return the value bound to key in kv, or None if not present\n",
    "    \n",
    "    >>> kv = kv_create([('a', 1), ('frog', 'croak')])\n",
    "    >>> kv_get(kv, 'frog')\n",
    "    'croak'\n",
    "    >>> kv_get(kv, 'baba')\n",
    "    \"\"\"\n",
    "    if key in kv:\n",
    "        return kv[key]\n",
    "    else:\n",
    "        return None\n",
    "\n",
    "def kv_items(kv):\n",
    "    \"\"\"Return a list of the (key, value) pairs in kv\n",
    "    \n",
    "    >>> kv = kv_create([('a', 1), ('frog', 'croak')])\n",
    "    >>> ('a', 1) in kv_items(kv)\n",
    "    True\n",
    "    >>> ('b', 1) in kv_items(kv)\n",
    "    False\n",
    "    \"\"\"\n",
    "    return list(kv.items())\n",
    "\n",
    "def kv_keys(kv):\n",
    "    \"\"\"Return a list of the keys in kv\n",
    "    \n",
    "    >>> kv = kv_create([('a', 1), ('frog', 'croak')])\n",
    "    >>> 'a' in kv_keys(kv)\n",
    "    True\n",
    "    >>> 'b' in kv_items(kv)\n",
    "    False\n",
    "    \"\"\"\n",
    "    return list(kv.keys())\n",
    "\n",
    "def kv_values(kv):\n",
    "    \"\"\"Return a list of the values in kv\n",
    "    \n",
    "    >>> kv = kv_create([('a', 1), ('frog', 'croak')])\n",
    "    >>> 1 in kv_values(kv)\n",
    "    True\n",
    "    >>> 2 in kv_values(kv)\n",
    "    False\n",
    "    \"\"\"\n",
    "    return list(kv.values())\n",
    "\n",
    "def kv_in(kv, key):\n",
    "    \"\"\"Determine whether key is present in kv\n",
    "    \"\"\"\n",
    "    return key in kv\n",
    "\n",
    "def kv_delete(kv, key):\n",
    "    \"\"\"Return a KV based in kv having removed any binding for key\n",
    "    \"\"\"\n",
    "    return kv_create([(k, v) for (k, v) in kv_items(kv) if not k == key])\n",
    "\n",
    "def kv_print(kv):\n",
    "    pairs = sorted(kv.items())\n",
    "    dsp = \"{\"\n",
    "    for (key, val) in pairs[:-1]:\n",
    "        dsp = dsp + \"'\" + key + \"':\" + str(val) + \",\\n\"\n",
    "    if pairs:\n",
    "        key, val = pairs[-1]\n",
    "        dsp = dsp + \"'\" + key + \"':\" + str(val)\n",
    "    dsp = dsp + \"}\"\n",
    "    print(dsp)"
   ]
  },
  {
   "cell_type": "code",
   "execution_count": null,
   "metadata": {
    "collapsed": false,
    "deletable": true,
    "editable": true
   },
   "outputs": [],
   "source": [
    "kv_create([('a', 1), ('frog', 'croak')])"
   ]
  },
  {
   "cell_type": "code",
   "execution_count": null,
   "metadata": {
    "collapsed": false,
    "deletable": true,
    "editable": true
   },
   "outputs": [],
   "source": [
    "kv_print(kv_empty())"
   ]
  },
  {
   "cell_type": "code",
   "execution_count": null,
   "metadata": {
    "collapsed": false,
    "deletable": true,
    "editable": true
   },
   "outputs": [],
   "source": [
    "test(kv_get)"
   ]
  },
  {
   "cell_type": "code",
   "execution_count": null,
   "metadata": {
    "collapsed": false,
    "deletable": true,
    "editable": true
   },
   "outputs": [],
   "source": [
    "test(kv_add)"
   ]
  },
  {
   "cell_type": "code",
   "execution_count": null,
   "metadata": {
    "collapsed": false,
    "deletable": true,
    "editable": true
   },
   "outputs": [],
   "source": [
    "kv_add(kv_create([('a', 1), ('frog', 'croak')]), 'b', 2)"
   ]
  },
  {
   "cell_type": "code",
   "execution_count": null,
   "metadata": {
    "collapsed": false,
    "deletable": true,
    "editable": true
   },
   "outputs": [],
   "source": [
    "test(kv_items), test(kv_keys), test(kv_values)"
   ]
  },
  {
   "cell_type": "code",
   "execution_count": null,
   "metadata": {
    "collapsed": true,
    "deletable": true,
    "editable": true
   },
   "outputs": [],
   "source": [
    "kv = kv_create([('a', 1), ('frog', 'croak')])"
   ]
  },
  {
   "cell_type": "code",
   "execution_count": null,
   "metadata": {
    "collapsed": false,
    "deletable": true,
    "editable": true
   },
   "outputs": [],
   "source": [
    "kv_values(kv)"
   ]
  },
  {
   "cell_type": "code",
   "execution_count": null,
   "metadata": {
    "collapsed": false,
    "deletable": true,
    "editable": true
   },
   "outputs": [],
   "source": [
    "kv_in(kv, 'beatle')"
   ]
  },
  {
   "cell_type": "code",
   "execution_count": null,
   "metadata": {
    "collapsed": false,
    "deletable": true,
    "editable": true
   },
   "outputs": [],
   "source": [
    "kv_delete(kv, 'frog')"
   ]
  },
  {
   "cell_type": "code",
   "execution_count": null,
   "metadata": {
    "collapsed": false,
    "deletable": true,
    "editable": true
   },
   "outputs": [],
   "source": [
    "kv_print(kv)"
   ]
  },
  {
   "cell_type": "code",
   "execution_count": null,
   "metadata": {
    "collapsed": true
   },
   "outputs": [],
   "source": []
  }
 ],
 "metadata": {
  "anaconda-cloud": {},
  "kernelspec": {
   "display_name": "Python [conda env:cs88]",
   "language": "python",
   "name": "conda-env-cs88-py"
  },
  "language_info": {
   "codemirror_mode": {
    "name": "ipython",
    "version": 3
   },
   "file_extension": ".py",
   "mimetype": "text/x-python",
   "name": "python",
   "nbconvert_exporter": "python",
   "pygments_lexer": "ipython3",
   "version": "3.5.2"
  }
 },
 "nbformat": 4,
 "nbformat_minor": 2
}
