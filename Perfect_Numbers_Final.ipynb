{
 "cells": [
  {
   "cell_type": "markdown",
   "metadata": {},
   "source": [
    "Today's Challenge: Perfect Numbers\n",
    "A perfect number is a positive integer that is equal to the sum of its positive divisors, excluding itself\n",
    "Unsolved problem in mathematics: Are there infinitely many perfect numbers\n",
    "\n",
    "First 10 perfect numbers"
   ]
  },
  {
   "cell_type": "code",
   "execution_count": 1,
   "metadata": {
    "collapsed": true
   },
   "outputs": [],
   "source": [
    "perfect_10 = [6, 28, 496, 8128, 33550336, 8589869056, 137438691328, 2305843008139952128, 2658455991569831744654692615953\\\n",
    "842176, 191561942608236107294793378084303638130997321548169216]"
   ]
  },
  {
   "cell_type": "code",
   "execution_count": 2,
   "metadata": {
    "collapsed": false
   },
   "outputs": [
    {
     "data": {
      "text/plain": [
       "[6,\n",
       " 28,\n",
       " 496,\n",
       " 8128,\n",
       " 33550336,\n",
       " 8589869056,\n",
       " 137438691328,\n",
       " 2305843008139952128,\n",
       " 2658455991569831744654692615953842176,\n",
       " 191561942608236107294793378084303638130997321548169216]"
      ]
     },
     "execution_count": 2,
     "metadata": {},
     "output_type": "execute_result"
    }
   ],
   "source": [
    "perfect_10"
   ]
  },
  {
   "cell_type": "markdown",
   "metadata": {},
   "source": [
    "Function definition statement\n",
    "    \n",
    "    def <fun_name>(<args>):\n",
    "       <indented body statements>\n",
    "       return <expression>"
   ]
  },
  {
   "cell_type": "code",
   "execution_count": 3,
   "metadata": {
    "collapsed": true
   },
   "outputs": [],
   "source": [
    "def divides(x,y):\n",
    "    return y%x == 0"
   ]
  },
  {
   "cell_type": "code",
   "execution_count": 4,
   "metadata": {
    "collapsed": false
   },
   "outputs": [
    {
     "data": {
      "text/plain": [
       "True"
      ]
     },
     "execution_count": 4,
     "metadata": {},
     "output_type": "execute_result"
    }
   ],
   "source": [
    "divides(2,4)"
   ]
  },
  {
   "cell_type": "markdown",
   "metadata": {},
   "source": [
    "**Conditional Statement**\n",
    "  - do some computation only under certain circumstances\n",
    "  - defined by a predicate\n",
    "\n",
    "     `if <predicate>:\n",
    "       <true statements>\n",
    "     else:\n",
    "       <false statements>`"
   ]
  },
  {
   "cell_type": "code",
   "execution_count": 5,
   "metadata": {
    "collapsed": true
   },
   "outputs": [],
   "source": [
    "def my_abs(x):\n",
    "    if x > 0:\n",
    "        return x\n",
    "    else:\n",
    "        return -x"
   ]
  },
  {
   "cell_type": "code",
   "execution_count": 6,
   "metadata": {
    "collapsed": false
   },
   "outputs": [
    {
     "data": {
      "text/plain": [
       "3"
      ]
     },
     "execution_count": 6,
     "metadata": {},
     "output_type": "execute_result"
    }
   ],
   "source": [
    "my_abs(-3)"
   ]
  },
  {
   "cell_type": "code",
   "execution_count": 7,
   "metadata": {
    "collapsed": true
   },
   "outputs": [],
   "source": [
    "def clumbsy_divides(x,y):\n",
    "    if y%x == 0:\n",
    "        return True\n",
    "    else:\n",
    "        return False"
   ]
  },
  {
   "cell_type": "markdown",
   "metadata": {},
   "source": [
    "**Iteration - list comprehension, \"for expression\"**\n",
    "  - describe an expression to perform in each item in a sequence\n",
    "  - let the data dictate the control\n",
    "  \n",
    "  `[ <exp with loop var> for <loop var> in <sequence expression> ]`"
   ]
  },
  {
   "cell_type": "code",
   "execution_count": 8,
   "metadata": {
    "collapsed": false
   },
   "outputs": [
    {
     "data": {
      "text/plain": [
       "[0, 1, 2, 3, 4, 5, 6, 7, 8, 9]"
      ]
     },
     "execution_count": 8,
     "metadata": {},
     "output_type": "execute_result"
    }
   ],
   "source": [
    "[i for i in range(10)]"
   ]
  },
  {
   "cell_type": "code",
   "execution_count": 9,
   "metadata": {
    "collapsed": true
   },
   "outputs": [],
   "source": [
    "def divisor(y):\n",
    "    return [divides(i,y) for i in range(1,y)]"
   ]
  },
  {
   "cell_type": "code",
   "execution_count": 10,
   "metadata": {
    "collapsed": false
   },
   "outputs": [
    {
     "data": {
      "text/plain": [
       "[True, True, True, True, False, True, False, False, False, False, False]"
      ]
     },
     "execution_count": 10,
     "metadata": {},
     "output_type": "execute_result"
    }
   ],
   "source": [
    "divisor(12)"
   ]
  },
  {
   "cell_type": "code",
   "execution_count": 11,
   "metadata": {
    "collapsed": true
   },
   "outputs": [],
   "source": [
    "def divisor_pairs(y):\n",
    "    return [(divides(i,y), i) for i in range(1,y)]"
   ]
  },
  {
   "cell_type": "code",
   "execution_count": 12,
   "metadata": {
    "collapsed": false
   },
   "outputs": [
    {
     "data": {
      "text/plain": [
       "[(True, 1),\n",
       " (True, 2),\n",
       " (True, 3),\n",
       " (True, 4),\n",
       " (False, 5),\n",
       " (True, 6),\n",
       " (False, 7),\n",
       " (False, 8),\n",
       " (False, 9),\n",
       " (False, 10),\n",
       " (False, 11)]"
      ]
     },
     "execution_count": 12,
     "metadata": {},
     "output_type": "execute_result"
    }
   ],
   "source": [
    "divisor_pairs(12)"
   ]
  },
  {
   "cell_type": "markdown",
   "metadata": {},
   "source": [
    "**Iteration - for statement**\n",
    "\n",
    "   `<initialization statements>\n",
    "   for <variables> in <sequence expression>:\n",
    "      <body statements>`\n"
   ]
  },
  {
   "cell_type": "code",
   "execution_count": 13,
   "metadata": {
    "collapsed": true
   },
   "outputs": [],
   "source": [
    "def my_sum(s):\n",
    "    partial_sum = 0\n",
    "    for element in s:\n",
    "       partial_sum += element\n",
    "    return partial_sum"
   ]
  },
  {
   "cell_type": "code",
   "execution_count": 14,
   "metadata": {
    "collapsed": false
   },
   "outputs": [
    {
     "data": {
      "text/plain": [
       "6"
      ]
     },
     "execution_count": 14,
     "metadata": {},
     "output_type": "execute_result"
    }
   ],
   "source": [
    "my_sum([1,2,3])"
   ]
  },
  {
   "cell_type": "markdown",
   "metadata": {},
   "source": [
    "For loop that builds a list by concatenation, conditionally"
   ]
  },
  {
   "cell_type": "code",
   "execution_count": 15,
   "metadata": {
    "collapsed": false
   },
   "outputs": [],
   "source": [
    "def divisors(y):\n",
    "    divisor_list = []\n",
    "    for i in range(1,y):\n",
    "        if divides(i,y):\n",
    "            divisor_list = divisor_list + [i]\n",
    "    return divisor_list"
   ]
  },
  {
   "cell_type": "code",
   "execution_count": 16,
   "metadata": {
    "collapsed": false
   },
   "outputs": [
    {
     "data": {
      "text/plain": [
       "[1, 2, 3, 4, 6]"
      ]
     },
     "execution_count": 16,
     "metadata": {},
     "output_type": "execute_result"
    }
   ],
   "source": [
    "divisors(12)"
   ]
  },
  {
   "cell_type": "markdown",
   "metadata": {},
   "source": [
    "Now we are ready to put it together and determine if a number is a perfect number"
   ]
  },
  {
   "cell_type": "code",
   "execution_count": 17,
   "metadata": {
    "collapsed": true
   },
   "outputs": [],
   "source": [
    "def perfect(v):\n",
    "    return my_sum(divisors(v)) == v"
   ]
  },
  {
   "cell_type": "code",
   "execution_count": 18,
   "metadata": {
    "collapsed": false
   },
   "outputs": [
    {
     "data": {
      "text/plain": [
       "True"
      ]
     },
     "execution_count": 18,
     "metadata": {},
     "output_type": "execute_result"
    }
   ],
   "source": [
    "perfect(6)"
   ]
  },
  {
   "cell_type": "markdown",
   "metadata": {},
   "source": [
    "**Iteration - while statement**\n",
    "\n",
    "   ```\n",
    "    <initialization statement>\n",
    "    while <predicate expression>:\n",
    "        <body statements>\n",
    "    <rest of the program>\n",
    "    ```\n",
    "   "
   ]
  },
  {
   "cell_type": "code",
   "execution_count": 19,
   "metadata": {
    "collapsed": true
   },
   "outputs": [],
   "source": [
    "def perfects():\n",
    "    n = 1\n",
    "    while True:\n",
    "        if perfect(n):\n",
    "            print(n)\n",
    "        n = n+1"
   ]
  },
  {
   "cell_type": "code",
   "execution_count": 21,
   "metadata": {
    "collapsed": false
   },
   "outputs": [],
   "source": [
    "#perfects()"
   ]
  },
  {
   "cell_type": "markdown",
   "metadata": {},
   "source": [
    "There is another approach.  There is a special kind of prime, called a Mersenne prime.\n",
    "\n",
    "Prime number N is a Mersenne prime if there is a p such that `N = 2**p - 1`\n",
    "\n",
    "Euclid proved that `2**(p-1) * (2**p -1)` is an even perfect number whenever `2**p - 1` is prime\n",
    "\n",
    "How would we generate some prime numbers?"
   ]
  },
  {
   "cell_type": "code",
   "execution_count": 25,
   "metadata": {
    "collapsed": true
   },
   "outputs": [],
   "source": [
    "def prime(n):\n",
    "    \"\"\"Determine if n is prime.\"\"\"\n",
    "    if n < 1:\n",
    "        return False\n",
    "    for i in range(2, n//2 + 1):\n",
    "        if divides(i,n):\n",
    "            return False\n",
    "    return True"
   ]
  },
  {
   "cell_type": "code",
   "execution_count": 28,
   "metadata": {
    "collapsed": false
   },
   "outputs": [
    {
     "data": {
      "text/plain": [
       "True"
      ]
     },
     "execution_count": 28,
     "metadata": {},
     "output_type": "execute_result"
    }
   ],
   "source": [
    "prime(5)"
   ]
  },
  {
   "cell_type": "code",
   "execution_count": 29,
   "metadata": {
    "collapsed": true
   },
   "outputs": [],
   "source": [
    "def primes(n):\n",
    "    plist = []\n",
    "    for i in range(2,n):\n",
    "        if prime(i):\n",
    "            plist = plist + [i]\n",
    "    return plist"
   ]
  },
  {
   "cell_type": "code",
   "execution_count": 30,
   "metadata": {
    "collapsed": false
   },
   "outputs": [
    {
     "data": {
      "text/plain": [
       "[2, 3, 5, 7, 11, 13, 17, 19, 23, 29]"
      ]
     },
     "execution_count": 30,
     "metadata": {},
     "output_type": "execute_result"
    }
   ],
   "source": [
    "primes(30)"
   ]
  },
  {
   "cell_type": "markdown",
   "metadata": {},
   "source": [
    "How can we determine if a prime number is a Mercenne prime?"
   ]
  },
  {
   "cell_type": "code",
   "execution_count": 33,
   "metadata": {
    "collapsed": true
   },
   "outputs": [],
   "source": [
    "def mersenne_prime(n):\n",
    "    \"\"\"if prime number n is a mersenne prime return p s.t. 2**p - 1 == n\"\"\"\n",
    "    p = 1\n",
    "    while ((2**p - 1) < n):\n",
    "        p = p + 1\n",
    "    if ((2**p - 1) == n):\n",
    "        return p\n",
    "    else:\n",
    "        return 0"
   ]
  },
  {
   "cell_type": "code",
   "execution_count": 35,
   "metadata": {
    "collapsed": false
   },
   "outputs": [
    {
     "data": {
      "text/plain": [
       "2"
      ]
     },
     "execution_count": 35,
     "metadata": {},
     "output_type": "execute_result"
    }
   ],
   "source": [
    "mersenne_prime(3)"
   ]
  },
  {
   "cell_type": "code",
   "execution_count": 36,
   "metadata": {
    "collapsed": true
   },
   "outputs": [],
   "source": [
    "def mersenne_primes(n):\n",
    "    return [p for p in\tprimes(n) if mersenne_prime(p)]"
   ]
  },
  {
   "cell_type": "code",
   "execution_count": 41,
   "metadata": {
    "collapsed": false
   },
   "outputs": [
    {
     "data": {
      "text/plain": [
       "[3, 7, 31, 127, 8191]"
      ]
     },
     "execution_count": 41,
     "metadata": {},
     "output_type": "execute_result"
    }
   ],
   "source": [
    "mersenne_primes(10000)"
   ]
  },
  {
   "cell_type": "code",
   "execution_count": 43,
   "metadata": {
    "collapsed": true
   },
   "outputs": [],
   "source": [
    "def make_perfect(p):\n",
    "    \"\"\"Assuming 2**p - 1 mersenne pime, return the perfect number it generates.\"\"\"\n",
    "    return 2**(p - 1) * (2**p - 1)"
   ]
  },
  {
   "cell_type": "code",
   "execution_count": 45,
   "metadata": {
    "collapsed": true
   },
   "outputs": [],
   "source": [
    "mersenne_ps = [2, 3, 5, 7, 13, 17, 19, 31, 61, 89, 107, 127, 521, 607, 1279, 2203, 2281, 3217, 4253, 4423, 9689, 9941, 11213, 19937, 21701, 23209, 44497, 86243,\\\n",
    " 110503, 132049, 216091, 756839, 859433, 1257787, 1398269, 2976221, 3021377, 6972593, 13466917, 20996011, 24036583, 25964951, 30402457, 32582657]"
   ]
  },
  {
   "cell_type": "code",
   "execution_count": 46,
   "metadata": {
    "collapsed": false
   },
   "outputs": [
    {
     "data": {
      "text/plain": [
       "[2,\n",
       " 3,\n",
       " 5,\n",
       " 7,\n",
       " 13,\n",
       " 17,\n",
       " 19,\n",
       " 31,\n",
       " 61,\n",
       " 89,\n",
       " 107,\n",
       " 127,\n",
       " 521,\n",
       " 607,\n",
       " 1279,\n",
       " 2203,\n",
       " 2281,\n",
       " 3217,\n",
       " 4253,\n",
       " 4423,\n",
       " 9689,\n",
       " 9941,\n",
       " 11213,\n",
       " 19937,\n",
       " 21701,\n",
       " 23209,\n",
       " 44497,\n",
       " 86243,\n",
       " 110503,\n",
       " 132049,\n",
       " 216091,\n",
       " 756839,\n",
       " 859433,\n",
       " 1257787,\n",
       " 1398269,\n",
       " 2976221,\n",
       " 3021377,\n",
       " 6972593,\n",
       " 13466917,\n",
       " 20996011,\n",
       " 24036583,\n",
       " 25964951,\n",
       " 30402457,\n",
       " 32582657]"
      ]
     },
     "execution_count": 46,
     "metadata": {},
     "output_type": "execute_result"
    }
   ],
   "source": [
    "mersenne_ps"
   ]
  },
  {
   "cell_type": "code",
   "execution_count": 49,
   "metadata": {
    "collapsed": false
   },
   "outputs": [
    {
     "data": {
      "text/plain": [
       "33550336"
      ]
     },
     "execution_count": 49,
     "metadata": {},
     "output_type": "execute_result"
    }
   ],
   "source": [
    "make_perfect(13)"
   ]
  },
  {
   "cell_type": "code",
   "execution_count": 50,
   "metadata": {
    "collapsed": true
   },
   "outputs": [],
   "source": [
    "def mersenne_prime_ps(n):\n",
    "    mps = []\n",
    "    for p in primes(n):\n",
    "        mp = mersenne_prime(p)\n",
    "        if mp:\n",
    "            mps = mps + [mp]\n",
    "    return mps"
   ]
  },
  {
   "cell_type": "code",
   "execution_count": 54,
   "metadata": {
    "collapsed": false
   },
   "outputs": [
    {
     "data": {
      "text/plain": [
       "[2, 3, 5, 7, 13]"
      ]
     },
     "execution_count": 54,
     "metadata": {},
     "output_type": "execute_result"
    }
   ],
   "source": [
    "mersenne_prime_ps(10000)"
   ]
  },
  {
   "cell_type": "code",
   "execution_count": 59,
   "metadata": {
    "collapsed": true
   },
   "outputs": [],
   "source": [
    "def first(s, k):\n",
    "    \"\"\"Return the first k elements of the sequence s.\"\"\"\n",
    "    res = []\n",
    "    for i in range(k):\n",
    "        res = res + [s[i]]\n",
    "    return res\n"
   ]
  },
  {
   "cell_type": "code",
   "execution_count": 61,
   "metadata": {
    "collapsed": false
   },
   "outputs": [
    {
     "data": {
      "text/plain": [
       "[2, 3, 5, 7, 13]"
      ]
     },
     "execution_count": 61,
     "metadata": {},
     "output_type": "execute_result"
    }
   ],
   "source": [
    "first(mersenne_ps, 5)"
   ]
  },
  {
   "cell_type": "code",
   "execution_count": 58,
   "metadata": {
    "collapsed": true
   },
   "outputs": [],
   "source": [
    "def m_perfects(k):\n",
    "    mps = first(mersenne_ps,k)\n",
    "    return [make_perfect(p) for p in mps]"
   ]
  },
  {
   "cell_type": "code",
   "execution_count": 62,
   "metadata": {
    "collapsed": false
   },
   "outputs": [
    {
     "data": {
      "text/plain": [
       "[6,\n",
       " 28,\n",
       " 496,\n",
       " 8128,\n",
       " 33550336,\n",
       " 8589869056,\n",
       " 137438691328,\n",
       " 2305843008139952128,\n",
       " 2658455991569831744654692615953842176,\n",
       " 191561942608236107294793378084303638130997321548169216]"
      ]
     },
     "execution_count": 62,
     "metadata": {},
     "output_type": "execute_result"
    }
   ],
   "source": [
    "m_perfects(10)"
   ]
  }
 ],
 "metadata": {
  "kernelspec": {
   "display_name": "Python 3",
   "language": "python",
   "name": "python3"
  },
  "language_info": {
   "codemirror_mode": {
    "name": "ipython",
    "version": 3
   },
   "file_extension": ".py",
   "mimetype": "text/x-python",
   "name": "python",
   "nbconvert_exporter": "python",
   "pygments_lexer": "ipython3",
   "version": "3.4.3"
  }
 },
 "nbformat": 4,
 "nbformat_minor": 0
}
