{
 "cells": [
  {
   "cell_type": "code",
   "execution_count": null,
   "metadata": {
    "collapsed": true,
    "deletable": true,
    "editable": true
   },
   "outputs": [],
   "source": [
    "# This is a little piece of magic to help you test functions against\n",
    "# their doctest as you go.  \n",
    "import doctest\n",
    "def test(fun, verbose=False):\n",
    "    doctest.run_docstring_examples(fun, None, name=fun.__name__, verbose=verbose)"
   ]
  },
  {
   "cell_type": "markdown",
   "metadata": {
    "deletable": true,
    "editable": true
   },
   "source": [
    "# Key-Value Constructors"
   ]
  },
  {
   "cell_type": "code",
   "execution_count": null,
   "metadata": {
    "collapsed": false,
    "deletable": true,
    "editable": true
   },
   "outputs": [],
   "source": [
    "# KV using list of (k, v) pairs as internal representation\n",
    "def kv_empty():\n",
    "    \"\"\"Create and return an empty KV\n",
    "    A KV is a collection of key-value pairs such that kv_get(kv, key) returns the value\n",
    "    \"\"\"\n",
    "    return []\n",
    "\n",
    "def kv_add(kv, key, value):\n",
    "    \"\"\"Create a new KV with an additional (key,value) binding\n",
    "    \"\"\"\n",
    "    assert type(key) == str  # the key should be a string\n",
    "    return [(key, value)] + kv\n",
    "\n",
    "def kv_create(kv_pairs):\n",
    "    \"\"\"Create and return a KV initialized to list of kvpairs.\n",
    "    \"\"\"\n",
    "    nkv = kv_empty()\n",
    "    for pair in kv_pairs:   # Verify that initialization is valid\n",
    "        assert len(pair)==2      # Each should be a (key, value) pair\n",
    "        key, val = pair\n",
    "        nkv = kv_add(nkv, key, val)\n",
    "    return nkv\n",
    "\n",
    "def kv_print(kv):\n",
    "    kv = sorted(kv)\n",
    "    dsp = \"{\"\n",
    "    for (key, val) in kv[:-1]:\n",
    "        dsp = dsp + \"'\" + key + \"':\" + str(val) + \",\\n\"\n",
    "    if kv:\n",
    "        key, val = kv[-1]\n",
    "        dsp = dsp + \"'\" + key + \"':\" + str(val)\n",
    "    dsp = dsp + \"}\"\n",
    "    print(dsp)"
   ]
  },
  {
   "cell_type": "code",
   "execution_count": null,
   "metadata": {
    "collapsed": false,
    "deletable": true,
    "editable": true
   },
   "outputs": [],
   "source": [
    "kv_print(kv_empty())"
   ]
  },
  {
   "cell_type": "code",
   "execution_count": null,
   "metadata": {
    "collapsed": false,
    "deletable": true,
    "editable": true
   },
   "outputs": [],
   "source": [
    "kv_print(kv_add(kv_empty(), 'a', 2))"
   ]
  },
  {
   "cell_type": "code",
   "execution_count": null,
   "metadata": {
    "collapsed": false,
    "deletable": true,
    "editable": true
   },
   "outputs": [],
   "source": [
    "kv_print(kv_add(kv_create([('a', 1), ('frog', 'croak')]), 'b', 2))"
   ]
  },
  {
   "cell_type": "markdown",
   "metadata": {
    "deletable": true,
    "editable": true
   },
   "source": [
    "# Key-Value Selectors"
   ]
  },
  {
   "cell_type": "code",
   "execution_count": null,
   "metadata": {
    "collapsed": true,
    "deletable": true,
    "editable": true
   },
   "outputs": [],
   "source": [
    "def kv_get(kv, key):\n",
    "    \"\"\"Return the value bound to key in kv, or None if not present\n",
    "    \n",
    "    >>> kv = kv_create([('a', 1), ('frog', 'croak')])\n",
    "    >>> kv_get(kv, 'frog')\n",
    "    'croak'\n",
    "    >>> kv_get(kv, 'baba')\n",
    "    \"\"\"\n",
    "    for k, v in kv:\n",
    "        if k == key:\n",
    "            return v\n",
    "    return None"
   ]
  },
  {
   "cell_type": "code",
   "execution_count": null,
   "metadata": {
    "collapsed": false,
    "deletable": true,
    "editable": true
   },
   "outputs": [],
   "source": [
    "test(kv_get)"
   ]
  },
  {
   "cell_type": "markdown",
   "metadata": {
    "deletable": true,
    "editable": true
   },
   "source": [
    "# Key-Value Operations"
   ]
  },
  {
   "cell_type": "code",
   "execution_count": null,
   "metadata": {
    "collapsed": true,
    "deletable": true,
    "editable": true
   },
   "outputs": [],
   "source": [
    "def kv_items(kv):\n",
    "    \"\"\"Return a list of the (key, value) pairs in kv\n",
    "    \n",
    "    >>> kv = kv_create([('a', 1), ('frog', 'croak')])\n",
    "    >>> ('a', 1) in kv_items(kv)\n",
    "    True\n",
    "    >>> ('b', 1) in kv_items(kv)\n",
    "    False\n",
    "    \"\"\"\n",
    "    return kv\n",
    "\n",
    "def kv_keys(kv):\n",
    "    \"\"\"Return a list of the keys in kv\n",
    "    \n",
    "    >>> kv = kv_create([('a', 1), ('frog', 'croak')])\n",
    "    >>> 'a' in kv_keys(kv)\n",
    "    True\n",
    "    >>> 'b' in kv_items(kv)\n",
    "    False\n",
    "    \"\"\"\n",
    "    return [key for (key, val) in kv]\n",
    "\n",
    "def kv_values(kv):\n",
    "    \"\"\"Return a list of the values in kv\n",
    "    \n",
    "    >>> kv = kv_create([('a', 1), ('frog', 'croak')])\n",
    "    >>> 1 in kv_values(kv)\n",
    "    True\n",
    "    >>> 2 in kv_values(kv)\n",
    "    False\n",
    "    \"\"\"\n",
    "    return [val for (key, val) in kv]\n",
    "\n",
    "def kv_in(kv, key):\n",
    "    \"\"\"Determine whether key is present in kv\n",
    "    \"\"\"\n",
    "    return key in kv_keys(kv)\n",
    "\n",
    "def kv_delete(kv, key):\n",
    "    \"\"\"Return a KV based in kv having removed any binding for key\n",
    "    \"\"\"\n",
    "    return kv_create([(k,v) for (k,v) in kv_items(kv) if k != key])"
   ]
  },
  {
   "cell_type": "code",
   "execution_count": null,
   "metadata": {
    "collapsed": false,
    "deletable": true,
    "editable": true
   },
   "outputs": [],
   "source": [
    "test(kv_items), test(kv_keys), test(kv_values)"
   ]
  },
  {
   "cell_type": "code",
   "execution_count": null,
   "metadata": {
    "collapsed": true,
    "deletable": true,
    "editable": true
   },
   "outputs": [],
   "source": [
    "kv = kv_create([('a', 1), ('frog', 'croak')])"
   ]
  },
  {
   "cell_type": "code",
   "execution_count": null,
   "metadata": {
    "collapsed": false,
    "deletable": true,
    "editable": true
   },
   "outputs": [],
   "source": [
    "kv_values(kv)"
   ]
  },
  {
   "cell_type": "code",
   "execution_count": null,
   "metadata": {
    "collapsed": false,
    "deletable": true,
    "editable": true
   },
   "outputs": [],
   "source": [
    "kv_in(kv, 'beatle')"
   ]
  },
  {
   "cell_type": "code",
   "execution_count": null,
   "metadata": {
    "collapsed": false,
    "deletable": true,
    "editable": true
   },
   "outputs": [],
   "source": [
    "kv_delete(kv, 'frog')"
   ]
  },
  {
   "cell_type": "markdown",
   "metadata": {
    "deletable": true,
    "editable": true
   },
   "source": [
    "# Examples using KV"
   ]
  },
  {
   "cell_type": "code",
   "execution_count": null,
   "metadata": {
    "collapsed": true,
    "deletable": true,
    "editable": true
   },
   "outputs": [],
   "source": [
    "characters = kv_create([('Mary','Little lamb'),\n",
    "                        ('Snow White','Some dwarves'),\n",
    "                        ('Mulan','Small dragon')])"
   ]
  },
  {
   "cell_type": "code",
   "execution_count": null,
   "metadata": {
    "collapsed": false,
    "deletable": true,
    "editable": true
   },
   "outputs": [],
   "source": [
    "kv_print(characters)"
   ]
  },
  {
   "cell_type": "markdown",
   "metadata": {
    "deletable": true,
    "editable": true
   },
   "source": [
    "# Phone book using KV"
   ]
  },
  {
   "cell_type": "code",
   "execution_count": null,
   "metadata": {
    "collapsed": true,
    "deletable": true,
    "editable": true
   },
   "outputs": [],
   "source": [
    "phone_book_data = [\n",
    "    (\"Christine Strauch\", \"510-842-9235\"),\n",
    "    (\"Frances Catal Buloan\", \"932-567-3241\"),\n",
    "    (\"Jack Chow\", \"617-547-0923\"),\n",
    "    (\"Joy De Rosario\", \"310-912-6483\"),\n",
    "    (\"Casey Casem\", \"415-432-9292\"),\n",
    "    (\"Lydia Lu\", \"707-341-1254\")]"
   ]
  },
  {
   "cell_type": "code",
   "execution_count": null,
   "metadata": {
    "collapsed": true,
    "deletable": true,
    "editable": true
   },
   "outputs": [],
   "source": [
    "phone_book = kv_create(phone_book_data)"
   ]
  },
  {
   "cell_type": "code",
   "execution_count": null,
   "metadata": {
    "collapsed": false,
    "deletable": true,
    "editable": true
   },
   "outputs": [],
   "source": [
    "print(\"Jack Chows's Number: \", kv_get(phone_book, \"Jack Chow\"))"
   ]
  },
  {
   "cell_type": "code",
   "execution_count": null,
   "metadata": {
    "collapsed": false,
    "deletable": true,
    "editable": true
   },
   "outputs": [],
   "source": [
    "print(\"Area codes\")\n",
    "area_codes = map(lambda x:x[0:3], kv_values(phone_book))\n",
    "list(area_codes)"
   ]
  },
  {
   "cell_type": "markdown",
   "metadata": {
    "deletable": true,
    "editable": true
   },
   "source": [
    "# Friends app"
   ]
  },
  {
   "cell_type": "code",
   "execution_count": null,
   "metadata": {
    "collapsed": true,
    "deletable": true,
    "editable": true
   },
   "outputs": [],
   "source": [
    "# A Database of friend pairs\n",
    "friend_data = [\n",
    "    (\"Christine Strauch\", \"Jack Chow\"),\n",
    "    (\"Christine Strauch\", \"Lydia Lu\"),\n",
    "    (\"Jack Chow\", \"Christine Strauch\"),\n",
    "    (\"Casey Casem\", \"Christine Strauch\"),\n",
    "    (\"Casey Casem\", \"Jack Chow\"),\n",
    "    (\"Casey Casem\", \"Frances Catal Buloan\"),\n",
    "    (\"Casey Casem\", \"Joy De Rosario\"),\n",
    "    (\"Casey Casem\", \"Casey Casem\"),\n",
    "    (\"Frances Catal Buloan\", \"Jack Chow\"),\n",
    "    (\"Jack Chow\", \"Frances Catal Buloan\"),\n",
    "    (\"Joy De Rosario\", \"Lydia Lu\"),\n",
    "    (\"Joy De Lydia\", \"Jack Chow\")\n",
    "    ]\n",
    "# Why can't this be a KV?"
   ]
  },
  {
   "cell_type": "code",
   "execution_count": null,
   "metadata": {
    "collapsed": false,
    "deletable": true,
    "editable": true
   },
   "outputs": [],
   "source": [
    "def make_friends(friendships):\n",
    "    friends = kv_empty()\n",
    "    for (der, dee) in friendships:\n",
    "        if not kv_in(friends, der):\n",
    "            friends = kv_add(friends, der, [dee])\n",
    "        else:\n",
    "            der_friends = kv_get(friends, der)\n",
    "            friends = kv_add(kv_delete(friends, der), der, [dee] + der_friends)\n",
    "    return friends"
   ]
  },
  {
   "cell_type": "code",
   "execution_count": null,
   "metadata": {
    "collapsed": false,
    "deletable": true,
    "editable": true
   },
   "outputs": [],
   "source": [
    "kv_print(make_friends(friend_data))"
   ]
  },
  {
   "cell_type": "code",
   "execution_count": null,
   "metadata": {
    "collapsed": true,
    "deletable": true,
    "editable": true
   },
   "outputs": [],
   "source": []
  }
 ],
 "metadata": {
  "anaconda-cloud": {},
  "kernelspec": {
   "display_name": "Python [conda env:cs88]",
   "language": "python",
   "name": "conda-env-cs88-py"
  },
  "language_info": {
   "codemirror_mode": {
    "name": "ipython",
    "version": 3
   },
   "file_extension": ".py",
   "mimetype": "text/x-python",
   "name": "python",
   "nbconvert_exporter": "python",
   "pygments_lexer": "ipython3",
   "version": "3.5.2"
  }
 },
 "nbformat": 4,
 "nbformat_minor": 2
}
