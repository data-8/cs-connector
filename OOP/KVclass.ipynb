{
 "cells": [
  {
   "cell_type": "code",
   "execution_count": null,
   "metadata": {
    "collapsed": false,
    "deletable": true,
    "editable": true
   },
   "outputs": [],
   "source": [
    "class KV:\n",
    "    \"\"\"Key-Value container abstraction\n",
    "    a collection of key-value pairs such that kv_get(kv, key) returns the value\n",
    "    \"\"\"\n",
    "    def __init__(self, kv_pairs=[]):\n",
    "        self._kv = []\n",
    "        for (key, val) in kv_pairs:   # Verify and initialize\n",
    "            assert (type(key) == str) # the key should be a string\n",
    "            self._kv.append((key, val))\n",
    "\n",
    "    def items(self):\n",
    "        \"\"\"Return a list of the (key, value) pairs in kv\n",
    "    \n",
    "        >>> kv = KV([('a', 1), ('frog', 'croak')])\n",
    "        >>> ('a', 1) in kv.items()\n",
    "        True\n",
    "        >>> ('b', 1) in kv.items()\n",
    "        False\n",
    "        \"\"\"\n",
    "        return self._kv\n",
    "            \n",
    "    def get(self, key):\n",
    "        \"\"\"Return the value bound to key in kv, or None if not present\n",
    "    \n",
    "        >>> kv = KV([('a', 1), ('frog', 'croak')])\n",
    "        >>> kv.get('frog')\n",
    "        'croak'\n",
    "        >>> kv.get('baba')\n",
    "        \"\"\"\n",
    "        for k, v in self.items():\n",
    "            if k == key:\n",
    "                return v\n",
    "        return None\n",
    "\n",
    "    def keys(self):\n",
    "        \"\"\"Return a list of the keys in kv\n",
    "    \n",
    "        >>> kv = KV([('a', 1), ('frog', 'croak')])\n",
    "        >>> 'a' in kv.keys()\n",
    "        True\n",
    "        >>> 'b' in kv.keys()\n",
    "        False\n",
    "        \"\"\"\n",
    "        return [key for (key, val) in self.items()]\n",
    "\n",
    "    def values(self):\n",
    "        \"\"\"Return a list of the values in kv\n",
    "    \n",
    "        >>> kv = KV([('a', 1), ('frog', 'croak')])\n",
    "        >>> kv.values()\n",
    "        [1, 'croak']\n",
    "        \"\"\"\n",
    "        return [val for (key, val) in self.items()]\n",
    "\n",
    "    def add(self, key, value):\n",
    "        \"\"\"Return a new KV adding binding (key, value)\"\"\"\n",
    "        return KV([(key, value)] + self.items())\n",
    "        \n",
    "    def delete(self, key):\n",
    "        \"\"\"Return a new KV having removed any binding for key\"\"\"\n",
    "        return KV([(k, v) for (k, v) in self.items(kv) if not k == key])\n"
   ]
  },
  {
   "cell_type": "code",
   "execution_count": null,
   "metadata": {
    "collapsed": false,
    "deletable": true,
    "editable": true
   },
   "outputs": [],
   "source": [
    "x = KV([('a', 3)])"
   ]
  },
  {
   "cell_type": "code",
   "execution_count": null,
   "metadata": {
    "collapsed": false,
    "deletable": true,
    "editable": true
   },
   "outputs": [],
   "source": [
    "x.get('a')"
   ]
  },
  {
   "cell_type": "code",
   "execution_count": null,
   "metadata": {
    "collapsed": false,
    "deletable": true,
    "editable": true
   },
   "outputs": [],
   "source": [
    "x"
   ]
  },
  {
   "cell_type": "code",
   "execution_count": null,
   "metadata": {
    "collapsed": false,
    "deletable": true,
    "editable": true
   },
   "outputs": [],
   "source": [
    "print(x)"
   ]
  },
  {
   "cell_type": "code",
   "execution_count": null,
   "metadata": {
    "collapsed": false
   },
   "outputs": [],
   "source": [
    "type(x)"
   ]
  },
  {
   "cell_type": "code",
   "execution_count": null,
   "metadata": {
    "collapsed": false,
    "deletable": true,
    "editable": true
   },
   "outputs": [],
   "source": [
    "x.add('b', 4)"
   ]
  },
  {
   "cell_type": "code",
   "execution_count": null,
   "metadata": {
    "collapsed": false,
    "deletable": true,
    "editable": true
   },
   "outputs": [],
   "source": [
    "kv = KV([('a', 1), ('frog', 'croak')])"
   ]
  },
  {
   "cell_type": "code",
   "execution_count": null,
   "metadata": {
    "collapsed": false,
    "deletable": true,
    "editable": true
   },
   "outputs": [],
   "source": [
    "kv"
   ]
  },
  {
   "cell_type": "code",
   "execution_count": null,
   "metadata": {
    "collapsed": false,
    "deletable": true,
    "editable": true
   },
   "outputs": [],
   "source": [
    "help(KV)"
   ]
  },
  {
   "cell_type": "code",
   "execution_count": null,
   "metadata": {
    "collapsed": false,
    "deletable": true,
    "editable": true
   },
   "outputs": [],
   "source": [
    "'a' in kv"
   ]
  },
  {
   "cell_type": "code",
   "execution_count": null,
   "metadata": {
    "collapsed": true
   },
   "outputs": [],
   "source": [
    "class KV:\n",
    "    \"\"\"Key-Value container abstraction\n",
    "    a collection of key-value pairs such that kv_get(kv, key) returns the value\n",
    "    \"\"\"\n",
    "    def __init__(self, kv_pairs=[]):\n",
    "        self._kv = []\n",
    "        for (key, val) in kv_pairs:   # Verify and initialize\n",
    "            assert (type(key) == str) # the key should be a string\n",
    "            self._kv.append((key, val))\n",
    "        \n",
    "    @classmethod\n",
    "    def create(cls, kv_pairs=[]):\n",
    "        return cls(kv_pairs)\n",
    "\n",
    "    def items(self):\n",
    "        \"\"\"Return a list of the (key, value) pairs in kv\n",
    "    \n",
    "        >>> kv = KV([('a', 1), ('frog', 'croak')])\n",
    "        >>> ('a', 1) in kv.items()\n",
    "        True\n",
    "        >>> ('b', 1) in kv.items()\n",
    "        False\n",
    "        \"\"\"\n",
    "        return self._kv\n",
    "            \n",
    "    def get(self, key):\n",
    "        \"\"\"Return the value bound to key in kv, or None if not present\n",
    "    \n",
    "        >>> kv = KV([('a', 1), ('frog', 'croak')])\n",
    "        >>> kv.get('frog')\n",
    "        'croak'\n",
    "        >>> kv.get('baba')\n",
    "        \"\"\"\n",
    "        for k, v in self.items():\n",
    "            if k == key:\n",
    "                return v\n",
    "        return None\n",
    "\n",
    "    def keys(self):\n",
    "        \"\"\"Return a list of the keys in kv\n",
    "    \n",
    "        >>> kv = KV([('a', 1), ('frog', 'croak')])\n",
    "        >>> 'a' in kv.keys()\n",
    "        True\n",
    "        >>> 'b' in kv.keys()\n",
    "        False\n",
    "        \"\"\"\n",
    "        return [key for (key, val) in self.items()]\n",
    "\n",
    "    def values(self):\n",
    "        \"\"\"Return a list of the values in kv\n",
    "    \n",
    "        >>> kv = KV([('a', 1), ('frog', 'croak')])\n",
    "        >>> kv.values()\n",
    "        [1, 'croak']\n",
    "        \"\"\"\n",
    "        return [val for (key, val) in self.items()]\n",
    "\n",
    "    def add(self, key, value):\n",
    "        \"\"\"Return a new KV adding binding (key, value)\"\"\"\n",
    "        return KV([(key, value)] + self.items())\n",
    "        \n",
    "    def delete(self, key):\n",
    "        \"\"\"Return a new KV having removed any binding for key\"\"\"\n",
    "        return KV([(k, v) for (k, v) in self.items(kv) if not k == key])\n",
    "\n",
    "    def __str__(self):\n",
    "        pairs = sorted(self.items())\n",
    "        dsp = \"{\"\n",
    "        for (key, val) in pairs[:-1]:\n",
    "            dsp = dsp + \"'\" + key + \"':\" + str(val) + \",\\n\"\n",
    "        if pairs:\n",
    "            key, val = pairs[-1]\n",
    "            dsp = dsp + \"'\" + key + \"':\" + str(val)\n",
    "        dsp = dsp + \"}\"\n",
    "        return dsp\n",
    "    \n",
    "    def __repr__(self):\n",
    "        return self.__str__()\n",
    "    \n",
    "    def __contains__(self, key):\n",
    "        \"\"\"Determine whether key is present in kv\"\"\"\n",
    "        return key in self.keys()\n",
    " "
   ]
  },
  {
   "cell_type": "code",
   "execution_count": null,
   "metadata": {
    "collapsed": false,
    "deletable": true,
    "editable": true
   },
   "outputs": [],
   "source": [
    "kk = KV.create([('a', 2),('b', 3), ('a', 4)])"
   ]
  },
  {
   "cell_type": "code",
   "execution_count": null,
   "metadata": {
    "collapsed": false,
    "deletable": true,
    "editable": true
   },
   "outputs": [],
   "source": [
    "kk"
   ]
  },
  {
   "cell_type": "markdown",
   "metadata": {},
   "source": [
    "## Inheritance example"
   ]
  },
  {
   "cell_type": "code",
   "execution_count": null,
   "metadata": {
    "collapsed": false,
    "deletable": true,
    "editable": true
   },
   "outputs": [],
   "source": [
    "class KVnodup(KV):\n",
    "    def __init__(self, kv_pairs=[]):\n",
    "        self._kv = []\n",
    "        for (key, val) in kv_pairs:   # Verify that initialization is valid\n",
    "            assert type(key) == str  # the key should be a string\n",
    "            if not key in self:\n",
    "                self._kv.append((key, val))"
   ]
  },
  {
   "cell_type": "code",
   "execution_count": null,
   "metadata": {
    "collapsed": false,
    "deletable": true,
    "editable": true
   },
   "outputs": [],
   "source": [
    "nkv = KVnodup([('a', 2),('b', 3), ('a', 4)])"
   ]
  },
  {
   "cell_type": "code",
   "execution_count": null,
   "metadata": {
    "collapsed": false,
    "deletable": true,
    "editable": true
   },
   "outputs": [],
   "source": [
    "nkv"
   ]
  },
  {
   "cell_type": "code",
   "execution_count": null,
   "metadata": {
    "collapsed": false,
    "deletable": true,
    "editable": true
   },
   "outputs": [],
   "source": [
    "type(nkv)"
   ]
  },
  {
   "cell_type": "code",
   "execution_count": null,
   "metadata": {
    "collapsed": false,
    "deletable": true,
    "editable": true
   },
   "outputs": [],
   "source": [
    "nnkv = nkv.add('c', 17)\n",
    "nnkv"
   ]
  },
  {
   "cell_type": "code",
   "execution_count": null,
   "metadata": {
    "collapsed": false,
    "deletable": true,
    "editable": true
   },
   "outputs": [],
   "source": [
    "type(nnkv)"
   ]
  },
  {
   "cell_type": "code",
   "execution_count": null,
   "metadata": {
    "collapsed": true,
    "deletable": true,
    "editable": true
   },
   "outputs": [],
   "source": []
  }
 ],
 "metadata": {
  "anaconda-cloud": {},
  "kernelspec": {
   "display_name": "Python [conda env:cs88]",
   "language": "python",
   "name": "conda-env-cs88-py"
  },
  "language_info": {
   "codemirror_mode": {
    "name": "ipython",
    "version": 3
   },
   "file_extension": ".py",
   "mimetype": "text/x-python",
   "name": "python",
   "nbconvert_exporter": "python",
   "pygments_lexer": "ipython3",
   "version": "3.5.2"
  }
 },
 "nbformat": 4,
 "nbformat_minor": 2
}
