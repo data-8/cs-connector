{
 "cells": [
  {
   "cell_type": "code",
   "execution_count": null,
   "metadata": {
    "collapsed": true,
    "deletable": true,
    "editable": true
   },
   "outputs": [],
   "source": [
    "# This is a little piece of magic to help you test functions against\n",
    "# their doctest as you go.  \n",
    "import doctest\n",
    "def test(fun, verbose=False):\n",
    "    doctest.run_docstring_examples(fun, None, name=fun.__name__, verbose=verbose)"
   ]
  },
  {
   "cell_type": "code",
   "execution_count": null,
   "metadata": {
    "collapsed": true,
    "deletable": true,
    "editable": true
   },
   "outputs": [],
   "source": [
    "\"\"\"\n",
    "Key-Value Abstract Data Type\n",
    "\n",
    "Using an internal representation of a pair of lists for keys and values\n",
    "\"\"\"\n",
    "\n",
    "KV_KEY = 0\n",
    "KV_VAL = 1\n",
    "\n",
    "# Constructors\n",
    "\n",
    "def kv_empty():\n",
    "    \"\"\"Create and return an empty KV\n",
    "    \"\"\"\n",
    "    return ([], [])\n",
    "\n",
    "def kv_add(kv, key, value):\n",
    "    \"\"\"Create a new KV with an addition (key,value) binding\n",
    "    \"\"\"\n",
    "    assert type(key) == str  # the key should be a string\n",
    "    return ([key]+kv[KV_KEY], [value]+kv[KV_VAL])\n",
    "\n",
    "def kv_create(listofkvpairs):\n",
    "    \"\"\"Create and return a KV initialized to list of kvpairs.\n",
    "    \n",
    "    A KV is a collection of key-value pairs such that kv_get(kv, key) returns the value\n",
    "    bound to key\n",
    "    \"\"\"\n",
    "    \n",
    "    # Internal representation of a KV is a pair of lists: keys and values\n",
    "    for kv in listofkvpairs:   # Verify that initialization is valid\n",
    "        assert len(kv)==2      # Each should be a key, value pair\n",
    "    kv = kv_empty()\n",
    "    for (k,v) in listofkvpairs:\n",
    "        kv = kv_add(kv, k, v)\n",
    "    return kv       # \n",
    "\n",
    "def kv_get(kv, key):\n",
    "    \"\"\"Return the value bound to key in kv, or None if not present\n",
    "    \n",
    "    >>> kv = kv_create([('a', 1), ('frog', 'croak')])\n",
    "    >>> kv_get(kv, 'frog')\n",
    "    'croak'\n",
    "    >>> kv_get(kv, 'baba')\n",
    "    \"\"\"\n",
    "    for k, v in zip(kv[KV_KEY], kv[KV_VAL]):\n",
    "        if k == key:\n",
    "            return v\n",
    "    return None\n",
    "\n",
    "\n",
    "def kv_items(kv):\n",
    "    \"\"\"Return a list of the (key, value) pairs in kv\n",
    "    \n",
    "    >>> kv = kv_create([('a', 1), ('frog', 'croak')])\n",
    "    >>> ('a', 1) in kv_items(kv)\n",
    "    True\n",
    "    >>> ('b', 1) in kv_items(kv)\n",
    "    False\n",
    "    \"\"\"\n",
    "    return zip(kv[KV_KEY], kv[KV_VAL])\n",
    "\n",
    "def kv_keys(kv):\n",
    "    \"\"\"Return a list of the keys in kv\n",
    "    \n",
    "    >>> kv = kv_create([('a', 1), ('frog', 'croak')])\n",
    "    >>> 'a' in kv_keys(kv)\n",
    "    True\n",
    "    >>> 'b' in kv_items(kv)\n",
    "    False\n",
    "    \"\"\"\n",
    "    return kv[KV_KEY]\n",
    "\n",
    "def kv_values(kv):\n",
    "    \"\"\"Return a list of the values in kv\n",
    "    \n",
    "    >>> kv = kv_create([('a', 1), ('frog', 'croak')])\n",
    "    >>> 1 in kv_values(kv)\n",
    "    True\n",
    "    >>> 2 in kv_values(kv)\n",
    "    False\n",
    "    \"\"\"\n",
    "    return kv[KV_VAL]\n",
    "\n",
    "def kv_in(kv, key):\n",
    "    \"\"\"Determine whether key is present in kv\n",
    "    \"\"\"\n",
    "    return key in kv_keys(kv)\n",
    "\n",
    "def kv_delete(kv, key):\n",
    "    \"\"\"Return a KV based in kv having removed any binding for key\n",
    "    \"\"\"\n",
    "    return kv_create([(k, v) for (k, v) in kv_items(kv) if not k == key])\n",
    "\n",
    "def kv_print(kv):\n",
    "    pairs = sorted(zip(kv[KV_KEY], kv[KV_VAL]))\n",
    "    dsp = \"{\"\n",
    "    for (key, val) in pairs[:-1]:\n",
    "        dsp = dsp + \"'\" + key + \"':\" + str(val) + \",\\n\"\n",
    "    if pairs:\n",
    "        key, val = pairs[-1]\n",
    "        dsp = dsp + \"'\" + key + \"':\" + str(val)\n",
    "    dsp = dsp + \"}\"\n",
    "    print(dsp)"
   ]
  },
  {
   "cell_type": "code",
   "execution_count": null,
   "metadata": {
    "collapsed": false,
    "deletable": true,
    "editable": true
   },
   "outputs": [],
   "source": [
    "kv_print(kv_create([('a', 1), ('frog', 'croak')]))"
   ]
  },
  {
   "cell_type": "code",
   "execution_count": null,
   "metadata": {
    "collapsed": false,
    "deletable": true,
    "editable": true
   },
   "outputs": [],
   "source": [
    "kv_print(kv_add(kv_create([('a', 1), ('frog', 'croak')]), 'b', 2))"
   ]
  },
  {
   "cell_type": "code",
   "execution_count": null,
   "metadata": {
    "collapsed": false,
    "deletable": true,
    "editable": true
   },
   "outputs": [],
   "source": [
    "test(kv_add), test(kv_items), test(kv_keys), test(kv_values)"
   ]
  },
  {
   "cell_type": "markdown",
   "metadata": {},
   "source": [
    "# Same application"
   ]
  },
  {
   "cell_type": "code",
   "execution_count": null,
   "metadata": {
    "collapsed": true,
    "deletable": true,
    "editable": true
   },
   "outputs": [],
   "source": [
    "phone_book_data = [\n",
    "    (\"Christine Strauch\", \"510-842-9235\"),\n",
    "    (\"Frances Catal Buloan\", \"932-567-3241\"),\n",
    "    (\"Jack Chow\", \"617-547-0923\"),\n",
    "    (\"Joy De Rosario\", \"310-912-6483\"),\n",
    "    (\"Casey Casem\", \"415-432-9292\"),\n",
    "    (\"Lydia Lu\", \"707-341-1254\")]"
   ]
  },
  {
   "cell_type": "code",
   "execution_count": null,
   "metadata": {
    "collapsed": true
   },
   "outputs": [],
   "source": [
    "phone_book = kv_create(phone_book_data)"
   ]
  },
  {
   "cell_type": "code",
   "execution_count": null,
   "metadata": {
    "collapsed": false
   },
   "outputs": [],
   "source": [
    "print(\"Jack Chows's Number: \", kv_get(phone_book, \"Jack Chow\"))"
   ]
  },
  {
   "cell_type": "code",
   "execution_count": null,
   "metadata": {
    "collapsed": false
   },
   "outputs": [],
   "source": [
    "print(\"Area codes\")\n",
    "area_codes = map(lambda x:x[0:3], kv_values(phone_book))\n",
    "list(area_codes)"
   ]
  },
  {
   "cell_type": "code",
   "execution_count": null,
   "metadata": {
    "collapsed": true
   },
   "outputs": [],
   "source": []
  }
 ],
 "metadata": {
  "anaconda-cloud": {},
  "kernelspec": {
   "display_name": "Python [conda env:cs88]",
   "language": "python",
   "name": "conda-env-cs88-py"
  },
  "language_info": {
   "codemirror_mode": {
    "name": "ipython",
    "version": 3
   },
   "file_extension": ".py",
   "mimetype": "text/x-python",
   "name": "python",
   "nbconvert_exporter": "python",
   "pygments_lexer": "ipython3",
   "version": "3.5.2"
  }
 },
 "nbformat": 4,
 "nbformat_minor": 2
}
