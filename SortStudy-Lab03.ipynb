{
 "cells": [
  {
   "cell_type": "code",
   "execution_count": null,
   "metadata": {
    "collapsed": false
   },
   "outputs": [],
   "source": [
    "# HIDDEN\n",
    "# This useful nonsense should just go at the top of your notebook.\n",
    "from datascience import *\n",
    "%matplotlib inline\n",
    "import matplotlib.pyplot as plots\n",
    "import numpy as np\n",
    "plots.style.use('fivethirtyeight')\n",
    "# datascience version number of last run of this notebook\n",
    "version.__version__"
   ]
  },
  {
   "cell_type": "code",
   "execution_count": null,
   "metadata": {
    "collapsed": true
   },
   "outputs": [],
   "source": [
    "# A special less-or-equal function that uses a global variable to keep track of how many times it is called\n",
    "\n",
    "leq_count = 0\n",
    "\n",
    "def leq(x,y):\n",
    "    global leq_count\n",
    "    leq_count += 1\n",
    "    return x <= y\n",
    "\n",
    "# A tool that applies a function to some data and reports the number of times that leq is called\n",
    "def measure(fun, data):\n",
    "    start = leq_count\n",
    "    fun(data)\n",
    "    end = leq_count\n",
    "    return end - start"
   ]
  },
  {
   "cell_type": "code",
   "execution_count": null,
   "metadata": {
    "collapsed": true
   },
   "outputs": [],
   "source": [
    "# QuickSort code - as seen in lecture\n",
    "def first(s):\n",
    "    \"\"\"Return the first element in a sequence.\"\"\"\n",
    "    return s[0]\n",
    "def rest(s):\n",
    "    \"\"\"Return all elements in a sequence after the first\"\"\"\n",
    "    return s[1:]\n",
    "def split(s, x):\n",
    "    \"\"\"Split a sequence into two based on pivot x\"\"\"\n",
    "    return [i for i in s if leq(i, x)], [i for i in s if not leq(i, x)]\n",
    "\n",
    "def qsort(s):\n",
    "    \"\"\"Sort a sequence by splitting it by the first element,                                      \n",
    "    sorting both parts and putting them back together.\"\"\"\n",
    "    if not s:\n",
    "        return []\n",
    "    else:\n",
    "        pivot = first(s)\n",
    "        lessor, more = split(rest(s), pivot)\n",
    "        return qsort(lessor) + [pivot] + qsort(more)"
   ]
  },
  {
   "cell_type": "code",
   "execution_count": null,
   "metadata": {
    "collapsed": false
   },
   "outputs": [],
   "source": [
    "n = 100\n",
    "data_in_order = list(range(n))\n",
    "data_random = list(np.random.permutation(data_in_order))"
   ]
  },
  {
   "cell_type": "code",
   "execution_count": null,
   "metadata": {
    "collapsed": false
   },
   "outputs": [],
   "source": [
    "sort_cost = Table([\"N\",\"Qsort Ordered\"]).with_rows([(i, measure(qsort,data_in_order[0:i])) for i in range(1,n+1)])\n",
    "sort_cost.plot(\"N\")"
   ]
  },
  {
   "cell_type": "code",
   "execution_count": null,
   "metadata": {
    "collapsed": true
   },
   "outputs": [],
   "source": [
    "# Recursive min sort \n",
    "\n",
    "# A version of min that uses our instrumented leq function\n",
    "def min(x,y):\n",
    "    if leq(x,y):\n",
    "        return x\n",
    "    else:\n",
    "        return y\n",
    "\n",
    "def rmin(s):\n",
    "    \"\"\"Return the minimum value in a sequence.\"\"\"\n",
    "    if len(s) == 1:\n",
    "        return first(s)\n",
    "    else:\n",
    "        return min(first(s), rmin(rest(s)))\n",
    "\n",
    "def remove(x, s):\n",
    "    \"\"\"Remove first x from s\"\"\"\n",
    " # Fill in this function from lab\n",
    "\n",
    "def rsort(s):\n",
    "    \"\"\"Sort sequence s in ascending order.\n",
    "    \n",
    "    >>> sort([1,2,3, 2, 1])\n",
    "    [1, 1, 2, 2, 3]\n",
    "    \"\"\"\n",
    "  # fill in this function from lab"
   ]
  },
  {
   "cell_type": "code",
   "execution_count": 1,
   "metadata": {
    "collapsed": true
   },
   "outputs": [],
   "source": [
    "# Construct a table showing the costs of rsort and qsort on data of size n and plot the costs\n"
   ]
  },
  {
   "cell_type": "code",
   "execution_count": null,
   "metadata": {
    "collapsed": true
   },
   "outputs": [],
   "source": [
    "# Construct a similar table, but use random data instead of in order data\n"
   ]
  }
 ],
 "metadata": {
  "kernelspec": {
   "display_name": "Python 3",
   "language": "python",
   "name": "python3"
  },
  "language_info": {
   "codemirror_mode": {
    "name": "ipython",
    "version": 3
   },
   "file_extension": ".py",
   "mimetype": "text/x-python",
   "name": "python",
   "nbconvert_exporter": "python",
   "pygments_lexer": "ipython3",
   "version": "3.5.1"
  }
 },
 "nbformat": 4,
 "nbformat_minor": 0
}
